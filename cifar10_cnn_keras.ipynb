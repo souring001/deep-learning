{
 "cells": [
  {
   "cell_type": "markdown",
   "metadata": {},
   "source": [
    "# CIFAR10でCNNを用いた画像分類(Keras)\n",
    "\n",
    "詳細は以下の記事に記してあります。\n",
    "https://qiita.com/souring001/items/1bf78219b14a8224d4d8"
   ]
  },
  {
   "cell_type": "markdown",
   "metadata": {},
   "source": [
    "## 乱数の固定"
   ]
  },
  {
   "cell_type": "markdown",
   "metadata": {},
   "source": [
    "再現性を持たせるため乱数を固定する。\n",
    "\n",
    "しかし、lossやaccuracyは毎回異なる。(原因究明中)"
   ]
  },
  {
   "cell_type": "code",
   "execution_count": 1,
   "metadata": {},
   "outputs": [
    {
     "name": "stderr",
     "output_type": "stream",
     "text": [
      "Using TensorFlow backend.\n"
     ]
    }
   ],
   "source": [
    "import numpy as np\n",
    "import tensorflow as tf\n",
    "import random as rn\n",
    "\n",
    "# Python 3.2.3以降で必要、ハッシュベースの操作に関して再現性を持たせる\n",
    "import os\n",
    "os.environ['PYTHONHASHSEED'] = '0'\n",
    "\n",
    "# Numpy, Pythonでの乱数の固定\n",
    "np.random.seed(42)\n",
    "rn.seed(12345)\n",
    "\n",
    "# TensorFlowはマルチスレッドだと再現性が無いので、シングルスレッドにする\n",
    "session_conf = tf.ConfigProto(intra_op_parallelism_threads=1, inter_op_parallelism_threads=1)\n",
    "\n",
    "# TensorFlowのバックエンドの乱数を固定\n",
    "from keras import backend as K\n",
    "tf.set_random_seed(1234)\n",
    "sess = tf.Session(graph=tf.get_default_graph(), config=session_conf)"
   ]
  },
  {
   "cell_type": "markdown",
   "metadata": {},
   "source": [
    "## ライブラリのインポート"
   ]
  },
  {
   "cell_type": "code",
   "execution_count": 2,
   "metadata": {},
   "outputs": [],
   "source": [
    "import keras\n",
    "import matplotlib.pyplot as plt\n",
    "from keras.datasets import cifar10\n",
    "from keras.models import Sequential, Model\n",
    "from keras.layers import Dense, Dropout, Activation, Flatten\n",
    "from keras.layers import Conv2D, MaxPooling2D\n",
    "from keras.optimizers import RMSprop, Adam\n",
    "from keras.applications.vgg16 import VGG16\n",
    "from keras.preprocessing.image import ImageDataGenerator"
   ]
  },
  {
   "cell_type": "markdown",
   "metadata": {},
   "source": [
    "## データセット準備"
   ]
  },
  {
   "cell_type": "markdown",
   "metadata": {},
   "source": [
    "データをロード"
   ]
  },
  {
   "cell_type": "code",
   "execution_count": 3,
   "metadata": {},
   "outputs": [],
   "source": [
    "(x_train, y_train), (x_test, y_test) = cifar10.load_data()"
   ]
  },
  {
   "cell_type": "markdown",
   "metadata": {},
   "source": [
    "データ型はfloat32に変換し、0~255を0~1とする。"
   ]
  },
  {
   "cell_type": "code",
   "execution_count": 4,
   "metadata": {},
   "outputs": [],
   "source": [
    "x_train = x_train.astype('float32')\n",
    "x_test = x_test.astype('float32')\n",
    "x_train /= 255\n",
    "x_test /= 255"
   ]
  },
  {
   "cell_type": "markdown",
   "metadata": {},
   "source": [
    "ラベルはOne-Hotベクトルにする"
   ]
  },
  {
   "cell_type": "code",
   "execution_count": 5,
   "metadata": {},
   "outputs": [],
   "source": [
    "num_classes = 10\n",
    "y_train = keras.utils.to_categorical(y_train, num_classes)\n",
    "y_test = keras.utils.to_categorical(y_test, num_classes)"
   ]
  },
  {
   "cell_type": "markdown",
   "metadata": {},
   "source": [
    "正しく準備できたか確認"
   ]
  },
  {
   "cell_type": "code",
   "execution_count": 6,
   "metadata": {},
   "outputs": [
    {
     "name": "stdout",
     "output_type": "stream",
     "text": [
      "50000 train samples\n",
      "10000 test samples\n",
      "x_train shape: (50000, 32, 32, 3) \tdtype: float32\n",
      "y_train shape: (50000, 10) \t\tdtype: float32\n",
      "x_test shape: (10000, 32, 32, 3) \tdtype: float32\n",
      "y_test shape: (10000, 10) \t\tdtype: float32\n"
     ]
    }
   ],
   "source": [
    "print(x_train.shape[0], 'train samples')\n",
    "print(x_test.shape[0], 'test samples')\n",
    "print('x_train shape:', x_train.shape, '\\tdtype:', x_train.dtype)\n",
    "print('y_train shape:', y_train.shape, '\\t\\tdtype:', y_train.dtype)\n",
    "print('x_test shape:', x_test.shape, '\\tdtype:', x_test.dtype)\n",
    "print('y_test shape:', y_test.shape, '\\t\\tdtype:', y_test.dtype)"
   ]
  },
  {
   "cell_type": "markdown",
   "metadata": {},
   "source": [
    "データの中身を確認"
   ]
  },
  {
   "cell_type": "code",
   "execution_count": 7,
   "metadata": {},
   "outputs": [
    {
     "data": {
      "image/png": "[encoded data removed]",
      "text/plain": [
       "<Figure size 432x288 with 1 Axes>"
      ]
     },
     "metadata": {
      "needs_background": "light"
     },
     "output_type": "display_data"
    },
    {
     "name": "stdout",
     "output_type": "stream",
     "text": [
      "[0. 0. 0. 0. 0. 0. 1. 0. 0. 0.]\n"
     ]
    }
   ],
   "source": [
    "idx = 0 # i番目のデータ\n",
    "plt.imshow(x_train[idx])\n",
    "plt.show()\n",
    "print(y_train[idx])"
   ]
  },
  {
   "cell_type": "markdown",
   "metadata": {},
   "source": [
    "## ネットワークの作成"
   ]
  },
  {
   "cell_type": "code",
   "execution_count": 37,
   "metadata": {},
   "outputs": [],
   "source": [
    "model = Sequential()\n",
    "model.add(Conv2D(32, (3, 3), padding='same',\n",
    "                 input_shape=x_train.shape[1:]))\n",
    "model.add(Activation('relu'))\n",
    "model.add(Conv2D(32, (3, 3)))\n",
    "model.add(Activation('relu'))\n",
    "model.add(MaxPooling2D(pool_size=(2, 2)))\n",
    "model.add(Dropout(0.25))\n",
    "\n",
    "model.add(Conv2D(64, (3, 3), padding='same'))\n",
    "model.add(Activation('relu'))\n",
    "model.add(Conv2D(64, (3, 3)))\n",
    "model.add(Activation('relu'))\n",
    "model.add(MaxPooling2D(pool_size=(2, 2)))\n",
    "model.add(Dropout(0.25))\n",
    "\n",
    "model.add(Flatten())\n",
    "model.add(Dense(512))\n",
    "model.add(Activation('relu'))\n",
    "model.add(Dropout(0.5))\n",
    "model.add(Dense(num_classes))\n",
    "model.add(Activation('softmax'))"
   ]
  },
  {
   "cell_type": "markdown",
   "metadata": {},
   "source": [
    "最適化アルゴリズム(Optimizer)の初期化"
   ]
  },
  {
   "cell_type": "code",
   "execution_count": 38,
   "metadata": {},
   "outputs": [],
   "source": [
    "# opt = RMSprop(lr=0.0001, decay=1e-6)\n",
    "opt = Adam()"
   ]
  },
  {
   "cell_type": "markdown",
   "metadata": {},
   "source": [
    "ロス関数や最適化アルゴリズムを設定する"
   ]
  },
  {
   "cell_type": "code",
   "execution_count": 39,
   "metadata": {},
   "outputs": [],
   "source": [
    "model.compile(loss='categorical_crossentropy',\n",
    "               optimizer=opt,\n",
    "               metrics=['accuracy'])"
   ]
  },
  {
   "cell_type": "markdown",
   "metadata": {},
   "source": [
    "モデルの要約を出力"
   ]
  },
  {
   "cell_type": "code",
   "execution_count": 40,
   "metadata": {},
   "outputs": [
    {
     "name": "stdout",
     "output_type": "stream",
     "text": [
      "_________________________________________________________________\n",
      "Layer (type)                 Output Shape              Param #   \n",
      "=================================================================\n",
      "conv2d_13 (Conv2D)           (None, 32, 32, 32)        896       \n",
      "_________________________________________________________________\n",
      "activation_19 (Activation)   (None, 32, 32, 32)        0         \n",
      "_________________________________________________________________\n",
      "conv2d_14 (Conv2D)           (None, 30, 30, 32)        9248      \n",
      "_________________________________________________________________\n",
      "activation_20 (Activation)   (None, 30, 30, 32)        0         \n",
      "_________________________________________________________________\n",
      "max_pooling2d_7 (MaxPooling2 (None, 15, 15, 32)        0         \n",
      "_________________________________________________________________\n",
      "dropout_10 (Dropout)         (None, 15, 15, 32)        0         \n",
      "_________________________________________________________________\n",
      "conv2d_15 (Conv2D)           (None, 15, 15, 64)        18496     \n",
      "_________________________________________________________________\n",
      "activation_21 (Activation)   (None, 15, 15, 64)        0         \n",
      "_________________________________________________________________\n",
      "conv2d_16 (Conv2D)           (None, 13, 13, 64)        36928     \n",
      "_________________________________________________________________\n",
      "activation_22 (Activation)   (None, 13, 13, 64)        0         \n",
      "_________________________________________________________________\n",
      "max_pooling2d_8 (MaxPooling2 (None, 6, 6, 64)          0         \n",
      "_________________________________________________________________\n",
      "dropout_11 (Dropout)         (None, 6, 6, 64)          0         \n",
      "_________________________________________________________________\n",
      "flatten_4 (Flatten)          (None, 2304)              0         \n",
      "_________________________________________________________________\n",
      "dense_7 (Dense)              (None, 512)               1180160   \n",
      "_________________________________________________________________\n",
      "activation_23 (Activation)   (None, 512)               0         \n",
      "_________________________________________________________________\n",
      "dropout_12 (Dropout)         (None, 512)               0         \n",
      "_________________________________________________________________\n",
      "dense_8 (Dense)              (None, 10)                5130      \n",
      "_________________________________________________________________\n",
      "activation_24 (Activation)   (None, 10)                0         \n",
      "=================================================================\n",
      "Total params: 1,250,858\n",
      "Trainable params: 1,250,858\n",
      "Non-trainable params: 0\n",
      "_________________________________________________________________\n"
     ]
    }
   ],
   "source": [
    "model.summary()"
   ]
  },
  {
   "cell_type": "markdown",
   "metadata": {},
   "source": [
    "## 学習"
   ]
  },
  {
   "cell_type": "code",
   "execution_count": 41,
   "metadata": {},
   "outputs": [],
   "source": [
    "batch_size = 32\n",
    "epochs = 20"
   ]
  },
  {
   "cell_type": "markdown",
   "metadata": {},
   "source": [
    "### データ拡張なしの場合"
   ]
  },
  {
   "cell_type": "code",
   "execution_count": 42,
   "metadata": {},
   "outputs": [
    {
     "name": "stdout",
     "output_type": "stream",
     "text": [
      "Train on 50000 samples, validate on 10000 samples\n",
      "Epoch 1/20\n",
      "50000/50000 [==============================] - 10s 199us/step - loss: 1.5217 - acc: 0.4453 - val_loss: 1.1986 - val_acc: 0.5844\n",
      "Epoch 2/20\n",
      "50000/50000 [==============================] - 9s 187us/step - loss: 1.1397 - acc: 0.5983 - val_loss: 1.0012 - val_acc: 0.6517\n",
      "Epoch 3/20\n",
      "50000/50000 [==============================] - 9s 186us/step - loss: 0.9908 - acc: 0.6483 - val_loss: 0.8920 - val_acc: 0.6910\n",
      "Epoch 4/20\n",
      "50000/50000 [==============================] - 10s 190us/step - loss: 0.8993 - acc: 0.6857 - val_loss: 0.8386 - val_acc: 0.7072\n",
      "Epoch 5/20\n",
      "50000/50000 [==============================] - 9s 188us/step - loss: 0.8358 - acc: 0.7062 - val_loss: 0.7610 - val_acc: 0.7382\n",
      "Epoch 6/20\n",
      "50000/50000 [==============================] - 10s 191us/step - loss: 0.7843 - acc: 0.7253 - val_loss: 0.7666 - val_acc: 0.7370\n",
      "Epoch 7/20\n",
      "50000/50000 [==============================] - 10s 193us/step - loss: 0.7515 - acc: 0.7376 - val_loss: 0.7223 - val_acc: 0.7494\n",
      "Epoch 8/20\n",
      "50000/50000 [==============================] - 9s 181us/step - loss: 0.7135 - acc: 0.7476 - val_loss: 0.6899 - val_acc: 0.7655\n",
      "Epoch 9/20\n",
      "50000/50000 [==============================] - 9s 182us/step - loss: 0.6870 - acc: 0.7577 - val_loss: 0.7584 - val_acc: 0.7425\n",
      "Epoch 10/20\n",
      "50000/50000 [==============================] - 9s 177us/step - loss: 0.6568 - acc: 0.7700 - val_loss: 0.6597 - val_acc: 0.7733\n",
      "Epoch 11/20\n",
      "50000/50000 [==============================] - 9s 189us/step - loss: 0.6432 - acc: 0.7724 - val_loss: 0.6759 - val_acc: 0.7724\n",
      "Epoch 12/20\n",
      "50000/50000 [==============================] - 10s 191us/step - loss: 0.6197 - acc: 0.7808 - val_loss: 0.6744 - val_acc: 0.7743\n",
      "Epoch 13/20\n",
      "50000/50000 [==============================] - 9s 189us/step - loss: 0.6039 - acc: 0.7877 - val_loss: 0.6743 - val_acc: 0.7711\n",
      "Epoch 14/20\n",
      "50000/50000 [==============================] - 9s 181us/step - loss: 0.5908 - acc: 0.7909 - val_loss: 0.6635 - val_acc: 0.7771\n",
      "Epoch 15/20\n",
      "50000/50000 [==============================] - 10s 191us/step - loss: 0.5753 - acc: 0.7949 - val_loss: 0.6439 - val_acc: 0.7833\n",
      "Epoch 16/20\n",
      "50000/50000 [==============================] - 9s 190us/step - loss: 0.5649 - acc: 0.8005 - val_loss: 0.6667 - val_acc: 0.7795\n",
      "Epoch 17/20\n",
      "50000/50000 [==============================] - 10s 193us/step - loss: 0.5533 - acc: 0.8037 - val_loss: 0.6505 - val_acc: 0.7840\n",
      "Epoch 18/20\n",
      "50000/50000 [==============================] - 9s 179us/step - loss: 0.5481 - acc: 0.8058 - val_loss: 0.6607 - val_acc: 0.7784\n",
      "Epoch 19/20\n",
      "50000/50000 [==============================] - 9s 186us/step - loss: 0.5367 - acc: 0.8109 - val_loss: 0.6659 - val_acc: 0.7813\n",
      "Epoch 20/20\n",
      "50000/50000 [==============================] - 9s 186us/step - loss: 0.5261 - acc: 0.8142 - val_loss: 0.6623 - val_acc: 0.7788\n"
     ]
    },
    {
     "data": {
      "text/plain": [
       "<keras.callbacks.History at 0x7fa66e012080>"
      ]
     },
     "execution_count": 42,
     "metadata": {},
     "output_type": "execute_result"
    }
   ],
   "source": [
    "model.fit(x_train, y_train,\n",
    "            batch_size=batch_size,\n",
    "            epochs=epochs,\n",
    "            validation_data=(x_test, y_test),\n",
    "            shuffle=True)"
   ]
  },
  {
   "cell_type": "markdown",
   "metadata": {},
   "source": [
    "### データ拡張ありの場合"
   ]
  },
  {
   "cell_type": "code",
   "execution_count": 28,
   "metadata": {
    "scrolled": true
   },
   "outputs": [],
   "source": [
    "num_train_samples = x_train.shape[0] # 50000\n",
    "\n",
    "datagen = ImageDataGenerator(\n",
    "                width_shift_range=0.1,\n",
    "                height_shift_range=0.1,\n",
    "                shear_range=0.2,\n",
    "                zoom_range=0.2,\n",
    "                rotation_range=20,\n",
    "                horizontal_flip=True\n",
    "                )\n",
    "\n",
    "\n",
    "# datagen.fit(x_train) # featurewise_center, featurewise_std_normalization, zca_whiteningが指定されたときに必要\n",
    "\n",
    "train_generator = datagen.flow(x_train, y_train, batch_size=batch_size)\n",
    "\n"
   ]
  },
  {
   "cell_type": "markdown",
   "metadata": {},
   "source": [
    "データ拡張後の中身を確認"
   ]
  },
  {
   "cell_type": "code",
   "execution_count": 29,
   "metadata": {
    "scrolled": true
   },
   "outputs": [
    {
     "data": {
      "image/png": "[encoded data removed]",
      "text/plain": [
       "<Figure size 432x288 with 1 Axes>"
      ]
     },
     "metadata": {
      "needs_background": "light"
     },
     "output_type": "display_data"
    },
    {
     "name": "stdout",
     "output_type": "stream",
     "text": [
      "[0. 0. 0. 0. 0. 1. 0. 0. 0. 0.]\n"
     ]
    }
   ],
   "source": [
    "batch = train_generator.next()\n",
    "x, y = batch\n",
    "\n",
    "idx = 0 # i番目のデータ\n",
    "plt.imshow(x[idx])\n",
    "plt.show()\n",
    "print(y[idx])"
   ]
  },
  {
   "cell_type": "markdown",
   "metadata": {},
   "source": [
    "学習"
   ]
  },
  {
   "cell_type": "code",
   "execution_count": 30,
   "metadata": {},
   "outputs": [
    {
     "name": "stdout",
     "output_type": "stream",
     "text": [
      "Epoch 1/20\n",
      "1563/1562 [==============================] - 18s 12ms/step - loss: 1.6845 - acc: 0.3773 - val_loss: 1.2435 - val_acc: 0.5493\n",
      "Epoch 2/20\n",
      "1563/1562 [==============================] - 18s 11ms/step - loss: 1.3629 - acc: 0.5104 - val_loss: 1.2041 - val_acc: 0.5694\n",
      "Epoch 3/20\n",
      "1563/1562 [==============================] - 18s 11ms/step - loss: 1.2410 - acc: 0.5587 - val_loss: 1.0017 - val_acc: 0.6451\n",
      "Epoch 4/20\n",
      "1563/1562 [==============================] - 18s 11ms/step - loss: 1.1805 - acc: 0.5831 - val_loss: 1.0197 - val_acc: 0.6370\n",
      "Epoch 5/20\n",
      "1563/1562 [==============================] - 18s 11ms/step - loss: 1.1338 - acc: 0.5998 - val_loss: 1.0224 - val_acc: 0.6391\n",
      "Epoch 6/20\n",
      "1563/1562 [==============================] - 18s 12ms/step - loss: 1.0924 - acc: 0.6118 - val_loss: 1.0412 - val_acc: 0.6362\n",
      "Epoch 7/20\n",
      "1563/1562 [==============================] - 18s 11ms/step - loss: 1.0660 - acc: 0.6231 - val_loss: 0.8505 - val_acc: 0.7009\n",
      "Epoch 8/20\n",
      "1563/1562 [==============================] - 18s 12ms/step - loss: 1.0468 - acc: 0.6317 - val_loss: 0.9892 - val_acc: 0.6637\n",
      "Epoch 9/20\n",
      "1563/1562 [==============================] - 18s 12ms/step - loss: 1.0215 - acc: 0.6407 - val_loss: 0.9234 - val_acc: 0.6834\n",
      "Epoch 10/20\n",
      "1563/1562 [==============================] - 18s 11ms/step - loss: 1.0114 - acc: 0.6482 - val_loss: 0.8667 - val_acc: 0.6952\n",
      "Epoch 11/20\n",
      "1563/1562 [==============================] - 18s 12ms/step - loss: 0.9930 - acc: 0.6519 - val_loss: 0.7822 - val_acc: 0.7264\n",
      "Epoch 12/20\n",
      "1563/1562 [==============================] - 18s 12ms/step - loss: 0.9841 - acc: 0.6563 - val_loss: 0.7830 - val_acc: 0.7334\n",
      "Epoch 13/20\n",
      "1563/1562 [==============================] - 18s 11ms/step - loss: 0.9708 - acc: 0.6618 - val_loss: 0.8045 - val_acc: 0.7211\n",
      "Epoch 14/20\n",
      "1563/1562 [==============================] - 18s 11ms/step - loss: 0.9710 - acc: 0.6622 - val_loss: 0.7812 - val_acc: 0.7307\n",
      "Epoch 15/20\n",
      "1563/1562 [==============================] - 18s 11ms/step - loss: 0.9552 - acc: 0.6676 - val_loss: 0.7452 - val_acc: 0.7417\n",
      "Epoch 16/20\n",
      "1563/1562 [==============================] - 18s 11ms/step - loss: 0.9514 - acc: 0.6690 - val_loss: 0.7233 - val_acc: 0.7487\n",
      "Epoch 17/20\n",
      "1563/1562 [==============================] - 18s 12ms/step - loss: 0.9462 - acc: 0.6721 - val_loss: 0.8792 - val_acc: 0.7005\n",
      "Epoch 18/20\n",
      "1563/1562 [==============================] - 18s 11ms/step - loss: 0.9379 - acc: 0.6732 - val_loss: 0.8158 - val_acc: 0.7293\n",
      "Epoch 19/20\n",
      "1563/1562 [==============================] - 18s 11ms/step - loss: 0.9351 - acc: 0.6758 - val_loss: 0.7519 - val_acc: 0.7390\n",
      "Epoch 20/20\n",
      "1563/1562 [==============================] - 18s 12ms/step - loss: 0.9240 - acc: 0.6794 - val_loss: 0.7543 - val_acc: 0.7398\n"
     ]
    },
    {
     "data": {
      "text/plain": [
       "<keras.callbacks.History at 0x7fa6b06488d0>"
      ]
     },
     "execution_count": 30,
     "metadata": {},
     "output_type": "execute_result"
    }
   ],
   "source": [
    "model.fit_generator(train_generator,\n",
    "                                epochs=epochs,\n",
    "                                steps_per_epoch=num_train_samples/batch_size,\n",
    "                                validation_data=(x_test, y_test))"
   ]
  },
  {
   "cell_type": "markdown",
   "metadata": {},
   "source": [
    "### 転移学習"
   ]
  },
  {
   "cell_type": "markdown",
   "metadata": {},
   "source": [
    "imagenetでpre-trainedされたVGG16を使用して、出力層側にある3つの全結合層のみを学習させる。\n",
    "\n",
    "Sequentialモデルではなく、Functional APIを使う。\n",
    "\n",
    "`trainable`を`False`として、ネットワークの前半部分をfreezeして重みを更新しなくする。"
   ]
  },
  {
   "cell_type": "code",
   "execution_count": 34,
   "metadata": {},
   "outputs": [
    {
     "name": "stdout",
     "output_type": "stream",
     "text": [
      "input_3\n",
      "block1_conv1\n",
      "block1_conv2\n",
      "block1_pool\n",
      "block2_conv1\n",
      "block2_conv2\n",
      "block2_pool\n",
      "block3_conv1\n",
      "block3_conv2\n",
      "block3_conv3\n",
      "block3_pool\n",
      "block4_conv1\n",
      "block4_conv2\n",
      "block4_conv3\n",
      "block4_pool\n",
      "block5_conv1\n",
      "block5_conv2\n",
      "block5_conv3\n",
      "block5_pool\n",
      "_________________________________________________________________\n",
      "Layer (type)                 Output Shape              Param #   \n",
      "=================================================================\n",
      "input_3 (InputLayer)         (None, 32, 32, 3)         0         \n",
      "_________________________________________________________________\n",
      "block1_conv1 (Conv2D)        (None, 32, 32, 64)        1792      \n",
      "_________________________________________________________________\n",
      "block1_conv2 (Conv2D)        (None, 32, 32, 64)        36928     \n",
      "_________________________________________________________________\n",
      "block1_pool (MaxPooling2D)   (None, 16, 16, 64)        0         \n",
      "_________________________________________________________________\n",
      "block2_conv1 (Conv2D)        (None, 16, 16, 128)       73856     \n",
      "_________________________________________________________________\n",
      "block2_conv2 (Conv2D)        (None, 16, 16, 128)       147584    \n",
      "_________________________________________________________________\n",
      "block2_pool (MaxPooling2D)   (None, 8, 8, 128)         0         \n",
      "_________________________________________________________________\n",
      "block3_conv1 (Conv2D)        (None, 8, 8, 256)         295168    \n",
      "_________________________________________________________________\n",
      "block3_conv2 (Conv2D)        (None, 8, 8, 256)         590080    \n",
      "_________________________________________________________________\n",
      "block3_conv3 (Conv2D)        (None, 8, 8, 256)         590080    \n",
      "_________________________________________________________________\n",
      "block3_pool (MaxPooling2D)   (None, 4, 4, 256)         0         \n",
      "_________________________________________________________________\n",
      "block4_conv1 (Conv2D)        (None, 4, 4, 512)         1180160   \n",
      "_________________________________________________________________\n",
      "block4_conv2 (Conv2D)        (None, 4, 4, 512)         2359808   \n",
      "_________________________________________________________________\n",
      "block4_conv3 (Conv2D)        (None, 4, 4, 512)         2359808   \n",
      "_________________________________________________________________\n",
      "block4_pool (MaxPooling2D)   (None, 2, 2, 512)         0         \n",
      "_________________________________________________________________\n",
      "block5_conv1 (Conv2D)        (None, 2, 2, 512)         2359808   \n",
      "_________________________________________________________________\n",
      "block5_conv2 (Conv2D)        (None, 2, 2, 512)         2359808   \n",
      "_________________________________________________________________\n",
      "block5_conv3 (Conv2D)        (None, 2, 2, 512)         2359808   \n",
      "_________________________________________________________________\n",
      "block5_pool (MaxPooling2D)   (None, 1, 1, 512)         0         \n",
      "_________________________________________________________________\n",
      "flatten (Flatten)            (None, 512)               0         \n",
      "_________________________________________________________________\n",
      "fc1 (Dense)                  (None, 4096)              2101248   \n",
      "_________________________________________________________________\n",
      "fc2 (Dense)                  (None, 4096)              16781312  \n",
      "_________________________________________________________________\n",
      "predictions (Dense)          (None, 10)                40970     \n",
      "=================================================================\n",
      "Total params: 33,638,218\n",
      "Trainable params: 18,923,530\n",
      "Non-trainable params: 14,714,688\n",
      "_________________________________________________________________\n"
     ]
    }
   ],
   "source": [
    "base_model = VGG16(weights='imagenet', include_top=False, input_shape=(32,32,3))\n",
    "\n",
    "x = Flatten(name='flatten')(base_model.output)\n",
    "x = Dense(4096, activation='relu', name='fc1')(x)\n",
    "x = Dense(4096, activation='relu', name='fc2')(x)\n",
    "predictions = Dense(num_classes, activation='softmax', name='predictions')(x)\n",
    "\n",
    "model = Model(inputs=base_model.input, outputs=predictions)\n",
    "\n",
    "# ネットワークの前半部分をfreezeして重み更新をしない。\n",
    "for layer in model.layers[:19]:\n",
    "    print(layer.name)\n",
    "    layer.trainable = False\n",
    "    \n",
    "opt = Adam()\n",
    "\n",
    "model.compile(loss='categorical_crossentropy',\n",
    "                        optimizer=opt,\n",
    "                        metrics=['accuracy'])\n",
    "\n",
    "model.summary()"
   ]
  },
  {
   "cell_type": "markdown",
   "metadata": {},
   "source": [
    "過学習気味の結果となった"
   ]
  },
  {
   "cell_type": "code",
   "execution_count": 35,
   "metadata": {},
   "outputs": [
    {
     "name": "stdout",
     "output_type": "stream",
     "text": [
      "Train on 50000 samples, validate on 10000 samples\n",
      "Epoch 1/20\n",
      "50000/50000 [==============================] - 40s 795us/step - loss: 1.3505 - acc: 0.5296 - val_loss: 1.2530 - val_acc: 0.5630\n",
      "Epoch 2/20\n",
      "50000/50000 [==============================] - 39s 780us/step - loss: 1.1605 - acc: 0.5951 - val_loss: 1.1921 - val_acc: 0.5832\n",
      "Epoch 3/20\n",
      "50000/50000 [==============================] - 39s 783us/step - loss: 1.0800 - acc: 0.6217 - val_loss: 1.1436 - val_acc: 0.5988\n",
      "Epoch 4/20\n",
      "50000/50000 [==============================] - 39s 784us/step - loss: 1.0105 - acc: 0.6429 - val_loss: 1.1416 - val_acc: 0.6048\n",
      "Epoch 5/20\n",
      "50000/50000 [==============================] - 39s 782us/step - loss: 0.9473 - acc: 0.6635 - val_loss: 1.1679 - val_acc: 0.6050\n",
      "Epoch 6/20\n",
      "50000/50000 [==============================] - 39s 781us/step - loss: 0.8818 - acc: 0.6840 - val_loss: 1.1922 - val_acc: 0.6044\n",
      "Epoch 7/20\n",
      "50000/50000 [==============================] - 39s 783us/step - loss: 0.8126 - acc: 0.7061 - val_loss: 1.2419 - val_acc: 0.6024\n",
      "Epoch 8/20\n",
      "50000/50000 [==============================] - 39s 782us/step - loss: 0.7356 - acc: 0.7346 - val_loss: 1.2832 - val_acc: 0.6030\n",
      "Epoch 9/20\n",
      "50000/50000 [==============================] - 39s 782us/step - loss: 0.6559 - acc: 0.7609 - val_loss: 1.3186 - val_acc: 0.6156\n",
      "Epoch 10/20\n",
      "50000/50000 [==============================] - 39s 781us/step - loss: 0.5819 - acc: 0.7884 - val_loss: 1.4168 - val_acc: 0.6054\n",
      "Epoch 11/20\n",
      "50000/50000 [==============================] - 39s 782us/step - loss: 0.5031 - acc: 0.8176 - val_loss: 1.4782 - val_acc: 0.6113\n",
      "Epoch 12/20\n",
      "50000/50000 [==============================] - 39s 783us/step - loss: 0.4258 - acc: 0.8456 - val_loss: 1.5946 - val_acc: 0.6034\n",
      "Epoch 13/20\n",
      "50000/50000 [==============================] - 39s 783us/step - loss: 0.3622 - acc: 0.8691 - val_loss: 1.7340 - val_acc: 0.6044\n",
      "Epoch 14/20\n",
      "50000/50000 [==============================] - 39s 782us/step - loss: 0.3067 - acc: 0.8887 - val_loss: 1.8059 - val_acc: 0.5956\n",
      "Epoch 15/20\n",
      "50000/50000 [==============================] - 39s 783us/step - loss: 0.2583 - acc: 0.9089 - val_loss: 1.9663 - val_acc: 0.5979\n",
      "Epoch 16/20\n",
      "50000/50000 [==============================] - 39s 781us/step - loss: 0.2260 - acc: 0.9218 - val_loss: 2.0851 - val_acc: 0.5975\n",
      "Epoch 17/20\n",
      "50000/50000 [==============================] - 39s 782us/step - loss: 0.2003 - acc: 0.9312 - val_loss: 2.2043 - val_acc: 0.5999\n",
      "Epoch 18/20\n",
      "50000/50000 [==============================] - 39s 780us/step - loss: 0.1689 - acc: 0.9425 - val_loss: 2.4043 - val_acc: 0.5957\n",
      "Epoch 19/20\n",
      "50000/50000 [==============================] - 39s 782us/step - loss: 0.1621 - acc: 0.9444 - val_loss: 2.3502 - val_acc: 0.5968\n",
      "Epoch 20/20\n",
      "50000/50000 [==============================] - 39s 783us/step - loss: 0.1459 - acc: 0.9504 - val_loss: 2.5098 - val_acc: 0.5949\n"
     ]
    },
    {
     "data": {
      "text/plain": [
       "<keras.callbacks.History at 0x7fa673226e48>"
      ]
     },
     "execution_count": 35,
     "metadata": {},
     "output_type": "execute_result"
    }
   ],
   "source": [
    "model.fit(x_train, y_train,\n",
    "            batch_size=batch_size,\n",
    "            epochs=epochs,\n",
    "            validation_data=(x_test, y_test),\n",
    "            shuffle=True)"
   ]
  },
  {
   "cell_type": "markdown",
   "metadata": {},
   "source": [
    "## 学習したモデルを用いて推定"
   ]
  },
  {
   "cell_type": "markdown",
   "metadata": {},
   "source": [
    "`model.predict(x)`で学習済みモデルを用いて推定を行う。"
   ]
  },
  {
   "cell_type": "code",
   "execution_count": 43,
   "metadata": {
    "scrolled": true
   },
   "outputs": [
    {
     "data": {
      "image/png": "[encoded data removed]",
      "text/plain": [
       "<Figure size 432x288 with 1 Axes>"
      ]
     },
     "metadata": {
      "needs_background": "light"
     },
     "output_type": "display_data"
    },
    {
     "name": "stdout",
     "output_type": "stream",
     "text": [
      "[8.4338727e-04 5.1493221e-03 2.4219223e-03 4.6394268e-01 9.4345458e-05\n",
      " 4.6124420e-01 1.0937045e-02 1.1056146e-03 5.0766073e-02 3.4954564e-03]\n",
      "pred_y: 3 , label: 3\n"
     ]
    }
   ],
   "source": [
    "y = model.predict(x_test)\n",
    "plt.imshow(x_test[0])\n",
    "plt.show()\n",
    "print(y[0])\n",
    "print('pred_y:', np.argmax(y[0]), ', label:', np.argmax(y_test[0]))"
   ]
  },
  {
   "cell_type": "markdown",
   "metadata": {},
   "source": [
    "## 学習済みモデルの保存"
   ]
  },
  {
   "cell_type": "code",
   "execution_count": 44,
   "metadata": {},
   "outputs": [],
   "source": [
    "model_name = 'keras_cifar10_trained_model.h5'\n",
    "model.save(model_name)"
   ]
  }
 ],
 "metadata": {
  "kernelspec": {
   "display_name": "Python 3",
   "language": "python",
   "name": "python3"
  },
  "language_info": {
   "codemirror_mode": {
    "name": "ipython",
    "version": 3
   },
   "file_extension": ".py",
   "mimetype": "text/x-python",
   "name": "python",
   "nbconvert_exporter": "python",
   "pygments_lexer": "ipython3",
   "version": "3.7.3"
  }
 },
 "nbformat": 4,
 "nbformat_minor": 2
}
